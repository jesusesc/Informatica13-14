{
 "metadata": {
  "name": "Estructuras_de_control"
 }, 
 "nbformat": 2, 
 "worksheets": [
  {
   "cells": [
    {
     "cell_type": "markdown", 
     "source": [
      "# Estructuras de control", 
      "## Condicionales"
     ]
    }, 
    {
     "cell_type": "markdown", 
     "source": [
      "*Ejemplo:* Resoluci\u00f3n de la ecuaci\u00f3n de primer grado"
     ]
    }, 
    {
     "cell_type": "code", 
     "collapsed": true, 
     "input": [
      "# Soluci\u00f3n de la ecuaci\u00f3n ax+b=0", 
      "def solucion1grado(a, b):", 
      "    return -float(b) / a"
     ], 
     "language": "python", 
     "outputs": [], 
     "prompt_number": 1
    }, 
    {
     "cell_type": "code", 
     "collapsed": false, 
     "input": [
      "solucion1grado(2,4)"
     ], 
     "language": "python", 
     "outputs": [
      {
       "output_type": "pyout", 
       "prompt_number": 8, 
       "text": [
        "-2.0"
       ]
      }
     ], 
     "prompt_number": 8
    }, 
    {
     "cell_type": "code", 
     "collapsed": false, 
     "input": [
      "solucion1grado(0,3)"
     ], 
     "language": "python", 
     "outputs": [
      {
       "ename": "ZeroDivisionError", 
       "evalue": "float division by zero", 
       "output_type": "pyerr", 
       "traceback": [
        "\u001b[0;31m---------------------------------------------------------------------------\u001b[0m\n\u001b[0;31mZeroDivisionError\u001b[0m                         Traceback (most recent call last)", 
        "\u001b[0;32m/home/jesus/Dropbox/docencia13-14/ipython/<ipython-input-9-0dc0bc36d40b>\u001b[0m in \u001b[0;36m<module>\u001b[0;34m()\u001b[0m\n\u001b[0;32m----> 1\u001b[0;31m \u001b[0msolucion1grado\u001b[0m\u001b[0;34m(\u001b[0m\u001b[0;36m0\u001b[0m\u001b[0;34m,\u001b[0m\u001b[0;36m3\u001b[0m\u001b[0;34m)\u001b[0m\u001b[0;34m\u001b[0m\u001b[0m\n\u001b[0m", 
        "\u001b[0;32m/home/jesus/Dropbox/docencia13-14/ipython/<ipython-input-7-60f059795b6a>\u001b[0m in \u001b[0;36msolucion1grado\u001b[0;34m(a, b)\u001b[0m\n\u001b[1;32m      1\u001b[0m \u001b[0;31m# Soluci\u00f3n de la ecuaci\u00f3n ax+b=0\u001b[0m\n\u001b[0;34m\u001b[0m\u001b[0m\n\u001b[1;32m      2\u001b[0m \u001b[0;32mdef\u001b[0m \u001b[0msolucion1grado\u001b[0m\u001b[0;34m(\u001b[0m\u001b[0ma\u001b[0m\u001b[0;34m,\u001b[0m \u001b[0mb\u001b[0m\u001b[0;34m)\u001b[0m\u001b[0;34m:\u001b[0m\u001b[0;34m\u001b[0m\u001b[0m\n\u001b[0;32m----> 3\u001b[0;31m     \u001b[0;32mreturn\u001b[0m \u001b[0;34m-\u001b[0m\u001b[0mfloat\u001b[0m\u001b[0;34m(\u001b[0m\u001b[0mb\u001b[0m\u001b[0;34m)\u001b[0m \u001b[0;34m/\u001b[0m \u001b[0ma\u001b[0m\u001b[0;34m\u001b[0m\u001b[0m\n\u001b[0m", 
        "\u001b[0;31mZeroDivisionError\u001b[0m: float division by zero"
       ]
      }
     ], 
     "prompt_number": 9
    }, 
    {
     "cell_type": "markdown", 
     "source": [
      "Podemos evitar el error de divisi\u00f3n por cero con un *condicional:*", 
      "la orden **if**"
     ]
    }, 
    {
     "cell_type": "code", 
     "collapsed": true, 
     "input": [
      "def solucion1grado(a, b):", 
      "    if a != 0:", 
      "        return  -float(b)/a"
     ], 
     "language": "python", 
     "outputs": [], 
     "prompt_number": 10
    }, 
    {
     "cell_type": "code", 
     "collapsed": false, 
     "input": [
      "solucion1grado(3,8)"
     ], 
     "language": "python", 
     "outputs": [
      {
       "output_type": "pyout", 
       "prompt_number": 11, 
       "text": [
        "-2.6666666666666665"
       ]
      }
     ], 
     "prompt_number": 11
    }, 
    {
     "cell_type": "code", 
     "collapsed": true, 
     "input": [
      "solucion1grado(0,2)"
     ], 
     "language": "python", 
     "outputs": [], 
     "prompt_number": 12
    }, 
    {
     "cell_type": "markdown", 
     "source": [
      "Podemos mejorar la respuesta."
     ]
    }, 
    {
     "cell_type": "code", 
     "collapsed": true, 
     "input": [
      "def solucion1grado(a, b):", 
      "  if a != 0:", 
      "    resultado = -float(b)/a", 
      "  if a == 0:", 
      "    resultado = 'ERROR'", 
      "  return resultado"
     ], 
     "language": "python", 
     "outputs": [], 
     "prompt_number": 13
    }, 
    {
     "cell_type": "code", 
     "collapsed": false, 
     "input": [
      "solucion1grado(3,4)"
     ], 
     "language": "python", 
     "outputs": [
      {
       "output_type": "pyout", 
       "prompt_number": 14, 
       "text": [
        "-1.3333333333333333"
       ]
      }
     ], 
     "prompt_number": 14
    }, 
    {
     "cell_type": "code", 
     "collapsed": false, 
     "input": [
      "solucion1grado(0,2)"
     ], 
     "language": "python", 
     "outputs": [
      {
       "output_type": "pyout", 
       "prompt_number": 15, 
       "text": [
        "'ERROR'"
       ]
      }
     ], 
     "prompt_number": 15
    }, 
    {
     "cell_type": "markdown", 
     "source": [
      "La operaci\u00f3n \"a == 0\" y \"a != 0\" es de hecho la misma. S\u00f3lo necesitamos", 
      "calcular una, utilizando la orden **else**."
     ]
    }, 
    {
     "cell_type": "code", 
     "collapsed": true, 
     "input": [
      "def solucion1grado(a, b):", 
      "    # soluci\u00f3n de la ecuaci\u00f3n de primer grado", 
      "    # a x + b = 0", 
      "    if (a != 0):", 
      "        resultado = -float(b)/a", 
      "    else:", 
      "        resultado =  \"ERROR\"", 
      "    return resultado"
     ], 
     "language": "python", 
     "outputs": [], 
     "prompt_number": 16
    }, 
    {
     "cell_type": "code", 
     "collapsed": false, 
     "input": [
      "solucion1grado(3,4)"
     ], 
     "language": "python", 
     "outputs": [
      {
       "output_type": "pyout", 
       "prompt_number": 17, 
       "text": [
        "-1.3333333333333333"
       ]
      }
     ], 
     "prompt_number": 17
    }, 
    {
     "cell_type": "code", 
     "collapsed": false, 
     "input": [
      "solucion1grado(0,2)"
     ], 
     "language": "python", 
     "outputs": [
      {
       "output_type": "pyout", 
       "prompt_number": 18, 
       "text": [
        "'ERROR'"
       ]
      }
     ], 
     "prompt_number": 18
    }, 
    {
     "cell_type": "markdown", 
     "source": [
      "Podemos **anidar** diversos condicionales."
     ]
    }, 
    {
     "cell_type": "code", 
     "collapsed": true, 
     "input": [
      "def solucion1grado(a, b):", 
      "  if a != 0:", 
      "    resultado = -float(b)/a", 
      "  if a == 0:", 
      "    if b != 0: #estudio qu\u00e9 pasa si a = 0", 
      "      resultado = 'NO HAY SOLUCI\u00d3N'   ", 
      "    if b == 0:", 
      "      resultado = 'HAY INFINITAS SOLUCIONES'", 
      "  return resultado"
     ], 
     "language": "python", 
     "outputs": [], 
     "prompt_number": 19
    }, 
    {
     "cell_type": "markdown", 
     "source": [
      "o mejor"
     ]
    }, 
    {
     "cell_type": "code", 
     "collapsed": true, 
     "input": [
      "def solucion1grado(a, b):", 
      "  if a != 0:", 
      "    resultado = -float(b)/a", 
      "  else : #a == 0", 
      "    if b != 0: ", 
      "      resultado = 'NO HAY SOLUCI\u00d3N'   ", 
      "    else: #b == 0", 
      "      resultado = 'HAY INFINITAS SOLUCIONES'", 
      "  return resultado"
     ], 
     "language": "python", 
     "outputs": [], 
     "prompt_number": 20
    }, 
    {
     "cell_type": "code", 
     "collapsed": false, 
     "input": [
      "solucion1grado(3,4)"
     ], 
     "language": "python", 
     "outputs": [
      {
       "output_type": "pyout", 
       "prompt_number": 21, 
       "text": [
        "-1.3333333333333333"
       ]
      }
     ], 
     "prompt_number": 21
    }, 
    {
     "cell_type": "code", 
     "collapsed": false, 
     "input": [
      "solucion1grado(0,2)"
     ], 
     "language": "python", 
     "outputs": [
      {
       "output_type": "pyout", 
       "prompt_number": 22, 
       "text": [
        "'NO HAY SOLUCI\\xc3\\x93N'"
       ]
      }
     ], 
     "prompt_number": 22
    }, 
    {
     "cell_type": "code", 
     "collapsed": false, 
     "input": [
      "solucion1grado(0,0)"
     ], 
     "language": "python", 
     "outputs": [
      {
       "output_type": "pyout", 
       "prompt_number": 23, 
       "text": [
        "'HAY INFINITAS SOLUCIONES'"
       ]
      }
     ], 
     "prompt_number": 23
    }, 
    {
     "cell_type": "markdown", 
     "source": [
      "## Otros ejemplos"
     ]
    }, 
    {
     "cell_type": "markdown", 
     "source": [
      "Estudia si un n\u00famero es par."
     ]
    }, 
    {
     "cell_type": "code", 
     "collapsed": true, 
     "input": [
      "def par(x):", 
      "    if (x%2 == 0):", 
      "        resultado = True", 
      "    else:", 
      "        resultado = False", 
      "    return resultado"
     ], 
     "language": "python", 
     "outputs": [], 
     "prompt_number": 24
    }, 
    {
     "cell_type": "code", 
     "collapsed": false, 
     "input": [
      "par(30)"
     ], 
     "language": "python", 
     "outputs": [
      {
       "output_type": "pyout", 
       "prompt_number": 26, 
       "text": [
        "True"
       ]
      }
     ], 
     "prompt_number": 26
    }, 
    {
     "cell_type": "code", 
     "collapsed": true, 
     "input": [
      "#otra versi\u00f3n m\u00e1s sencilla ser\u00eda", 
      "def par(x):", 
      "    return (x%2 == 0)"
     ], 
     "language": "python", 
     "outputs": [], 
     "prompt_number": 44
    }, 
    {
     "cell_type": "markdown", 
     "source": [
      "\u00bfEs un n\u00famero el doble de un impar?"
     ]
    }, 
    {
     "cell_type": "code", 
     "collapsed": true, 
     "input": [
      "def doble_de_impar(n):", 
      "    if not par (n):", 
      "        resultado = False", 
      "        # no es el doble de nadie", 
      "    else: # el n\u00famero es par", 
      "        if par(n/2):", 
      "            resultado = False", 
      "        else:", 
      "            resultado = True", 
      "    return resultado"
     ], 
     "language": "python", 
     "outputs": [], 
     "prompt_number": 27
    }, 
    {
     "cell_type": "code", 
     "collapsed": false, 
     "input": [
      "doble_de_impar(13)"
     ], 
     "language": "python", 
     "outputs": [
      {
       "output_type": "pyout", 
       "prompt_number": 30, 
       "text": [
        "False"
       ]
      }
     ], 
     "prompt_number": 30
    }, 
    {
     "cell_type": "markdown", 
     "source": [
      "Ser tri\u00e1ngulo (con condicionales)"
     ]
    }, 
    {
     "cell_type": "code", 
     "collapsed": true, 
     "input": [
      "def esTriangulo(a,b,c):", 
      "    return (a + b > c) and  (a + c > b) and (c + b > a)", 
      "", 
      "def esEscaleno(a,b,c):", 
      "    return esTriangulo(a,b,c) and (a <> b) and\\", 
      "    (b <> c) and (a <> c)", 
      "", 
      "def esEquilatero(a,b,c):", 
      "    return esTriangulo and (a == b) and (b == c)", 
      "", 
      "def esIsosceles(a,b,c):", 
      "    return esTriangulo(a,b,c) and (not esEscaleno(a,b,c)) and\\", 
      "    (not esEquilatero(a,b,c))", 
      "", 
      "def tipo_triangulo(a,b,c):", 
      "    if esTriangulo(a,b,c):", 
      "        if esEscaleno(a,b,c):", 
      "            resultado = 'escaleno'", 
      "        else:", 
      "            if esEquilatero(a,b,c):", 
      "                resultado =  'equilatero'", 
      "            else:", 
      "                resultado = 'is\u00f3sceles'", 
      "   ", 
      "    else:", 
      "        resultado = 'no es un tri\u00e1ngulo'", 
      "    return resultado"
     ], 
     "language": "python", 
     "outputs": [], 
     "prompt_number": 4
    }, 
    {
     "cell_type": "code", 
     "collapsed": false, 
     "input": [
      "tipo_triangulo(4,4,40)"
     ], 
     "language": "python", 
     "outputs": [
      {
       "output_type": "pyout", 
       "prompt_number": 32, 
       "text": [
        "'no es un tri\\xc3\\xa1ngulo'"
       ]
      }
     ], 
     "prompt_number": 32
    }, 
    {
     "cell_type": "markdown", 
     "source": [
      "### La instrucci\u00f3n elif", 
      "Cuando se concatenan diversas secuencias else ... if podemos contraerlas utilizando ", 
      "\"elif\""
     ]
    }, 
    {
     "cell_type": "code", 
     "collapsed": true, 
     "input": [
      "def tipo_triangulo(a,b,c):", 
      "    if esTriangulo(a,b,c):", 
      "        if esEscaleno(a,b,c):", 
      "            resultado = 'escaleno'", 
      "        elif esEquilatero(a,b,c):", 
      "            resultado =  'equilatero'", 
      "        else:", 
      "            resultado = 'is\u00f3sceles'", 
      "   ", 
      "    else:", 
      "        resultado = 'no es un tri\u00e1ngulo'", 
      "    return resultado"
     ], 
     "language": "python", 
     "outputs": [], 
     "prompt_number": 24
    }, 
    {
     "cell_type": "code", 
     "collapsed": false, 
     "input": [
      "tipo_triangulo(2,3,4)"
     ], 
     "language": "python", 
     "outputs": [
      {
       "output_type": "pyout", 
       "prompt_number": 25, 
       "text": [
        "'escaleno'"
       ]
      }
     ], 
     "prompt_number": 25
    }, 
    {
     "cell_type": "markdown", 
     "source": [
      "## Sentencias iterativas (Bucles)", 
      "Para resolver determinados problemas, es necesario repetir una serie de instrucciones", 
      "un n\u00famero (determinado o no) de veces. ", 
      "", 
      "*Ejemplo* Suma los 10 primeros n\u00fameros"
     ]
    }, 
    {
     "cell_type": "code", 
     "collapsed": false, 
     "input": [
      "1 + 2 + 3 + 4 + 5 + 6 + 7 + 8 + 9 + 10 + 11"
     ], 
     "language": "python", 
     "outputs": [
      {
       "output_type": "pyout", 
       "prompt_number": 1, 
       "text": [
        "66"
       ]
      }
     ], 
     "prompt_number": 1
    }, 
    {
     "cell_type": "code", 
     "collapsed": false, 
     "input": [
      "def suma(n):", 
      "    return 1 + .. + n"
     ], 
     "language": "python", 
     "outputs": [
      {
       "ename": "SyntaxError", 
       "evalue": "invalid syntax (<ipython-input-2-3a0a6513077e>, line 2)", 
       "output_type": "pyerr", 
       "traceback": [
        "\u001b[0;36m  File \u001b[0;32m\"<ipython-input-2-3a0a6513077e>\"\u001b[0;36m, line \u001b[0;32m2\u001b[0m\n\u001b[0;31m    return 1 + .. + n\u001b[0m\n\u001b[0m               ^\u001b[0m\n\u001b[0;31mSyntaxError\u001b[0m\u001b[0;31m:\u001b[0m invalid syntax\n"
       ]
      }
     ], 
     "prompt_number": 2
    }, 
    {
     "cell_type": "markdown", 
     "source": [
      "\u00bfPodemos sumar los 100 primeros n\u00fameros? \u00bfO los n primeros n\u00fameros?"
     ]
    }, 
    {
     "cell_type": "code", 
     "collapsed": true, 
     "input": [
      "def suma(n):", 
      "    # Suma los n primeros n\u00fameros", 
      "    i = 1", 
      "    parcial = 0", 
      "    ", 
      "    while i <= n:", 
      "        #print 'parcial = ', parcial, 'i = ', i", 
      "        parcial = parcial + i", 
      "        i+=1", 
      "    ", 
      "    return parcial"
     ], 
     "language": "python", 
     "outputs": [], 
     "prompt_number": 24
    }, 
    {
     "cell_type": "code", 
     "collapsed": false, 
     "input": [
      "suma(20)"
     ], 
     "language": "python", 
     "outputs": [
      {
       "output_type": "pyout", 
       "prompt_number": 25, 
       "text": [
        "210"
       ]
      }
     ], 
     "prompt_number": 25
    }, 
    {
     "cell_type": "markdown", 
     "source": [
      "La sentencia `while` se usa as\u00ed", 
      "` ", 
      "while <condici\u00f3n> :", 
      "  acci\u00f3n ", 
      "  acci\u00f3n ", 
      "  acci\u00f3n ", 
      "`", 
      "y permite expresar *Mientras se cumpla esta condici\u00f3n", 
      "repite estas acciones.*"
     ]
    }, 
    {
     "cell_type": "code", 
     "collapsed": true, 
     "input": [
      "def contador(n):", 
      "  i = 0", 
      "  while i < n:", 
      "    print i", 
      "    i += 1", 
      "  print 'Hecho'"
     ], 
     "language": "python", 
     "outputs": [], 
     "prompt_number": 26
    }, 
    {
     "cell_type": "code", 
     "collapsed": false, 
     "input": [
      "contador(3)"
     ], 
     "language": "python", 
     "outputs": [
      {
       "output_type": "stream", 
       "stream": "stdout", 
       "text": [
        "0", 
        "1", 
        "2", 
        "Hecho"
       ]
      }
     ], 
     "prompt_number": 11
    }, 
    {
     "cell_type": "code", 
     "collapsed": true, 
     "input": [
      "def contador():", 
      "  i = 1  #IMPORTANCIA DEL VALOR INICIAL", 
      "  while i < 3: #CONTROL DEL VALOR", 
      "    print i", 
      "    i += 1", 
      "    #ACTUALIZAR EL VALOR DE CONTROL", 
      "  print 'Hecho'", 
      "    ", 
      "    "
     ], 
     "language": "python", 
     "outputs": [], 
     "prompt_number": 20
    }, 
    {
     "cell_type": "code", 
     "collapsed": false, 
     "input": [
      "contador()"
     ], 
     "language": "python", 
     "outputs": [
      {
       "output_type": "stream", 
       "stream": "stdout", 
       "text": [
        "1", 
        "2", 
        "Hecho"
       ]
      }
     ], 
     "prompt_number": 21
    }, 
    {
     "cell_type": "code", 
     "collapsed": true, 
     "input": [
      "#cuidado con los bucles sin fin", 
      "def numeros(n):", 
      "    while i > n:", 
      "        print i", 
      "        i+=1", 
      "        "
     ], 
     "language": "python", 
     "outputs": [], 
     "prompt_number": 9
    }, 
    {
     "cell_type": "code", 
     "collapsed": true, 
     "input": [
      "#muestra los multiplos de n entre n y n.m, ambos incluidos", 
      "def multiplos(n,m):", 
      "    i = 1", 
      "    while i<= m :", 
      "        print n*i", 
      "        i +=1"
     ], 
     "language": "python", 
     "outputs": [], 
     "prompt_number": 27
    }, 
    {
     "cell_type": "code", 
     "collapsed": false, 
     "input": [
      "multiplos(3,10)"
     ], 
     "language": "python", 
     "outputs": [
      {
       "output_type": "stream", 
       "stream": "stdout", 
       "text": [
        "3", 
        "6", 
        "9", 
        "12", 
        "15", 
        "18", 
        "21", 
        "24", 
        "27", 
        "30"
       ]
      }
     ], 
     "prompt_number": 28
    }, 
    {
     "cell_type": "markdown", 
     "source": [
      "### Sumatorios", 
      "Un utilizaci\u00f3n t\u00edpica de los bucles es la suma de cantidades (determinadas o no)", 
      "de n\u00fameros."
     ]
    }, 
    {
     "cell_type": "code", 
     "collapsed": true, 
     "input": [
      "def sumatorio(n):", 
      "    suma = 0", 
      "    i = 1", 
      "    while i <= n:", 
      "        suma += i", 
      "        i += 1", 
      "    return suma"
     ], 
     "language": "python", 
     "outputs": [], 
     "prompt_number": 10
    }, 
    {
     "cell_type": "code", 
     "collapsed": false, 
     "input": [
      "sumatorio(100)"
     ], 
     "language": "python", 
     "outputs": [
      {
       "output_type": "pyout", 
       "prompt_number": 11, 
       "text": [
        "5050"
       ]
      }
     ], 
     "prompt_number": 11
    }, 
    {
     "cell_type": "markdown", 
     "source": [
      "Calcula la suma n + (n+1) + .... + m, si n>m devuelve 0"
     ]
    }, 
    {
     "cell_type": "code", 
     "collapsed": true, 
     "input": [
      "def suma(n,m):", 
      "    s = 0 #valor por defecto", 
      "    if n <=  m :", 
      "        i = n", 
      "        while i <= m:", 
      "            s = s + i", 
      "            #c\u00f3digo auxiliar", 
      "            #print \"suma parcial\", s, \"valor\",i ", 
      "            i += 1", 
      "    return s"
     ], 
     "language": "python", 
     "outputs": [], 
     "prompt_number": 15
    }, 
    {
     "cell_type": "code", 
     "collapsed": false, 
     "input": [
      "suma(1,10)"
     ], 
     "language": "python", 
     "outputs": [
      {
       "output_type": "pyout", 
       "prompt_number": 16, 
       "text": [
        "55"
       ]
      }
     ], 
     "prompt_number": 16
    }, 
    {
     "cell_type": "markdown", 
     "source": [
      "C\u00e1lculo del Factorial: n!"
     ]
    }, 
    {
     "cell_type": "code", 
     "collapsed": true, 
     "input": [
      "def factorial(n):", 
      "    fact = 1", 
      "    if n > 0:", 
      "        i = 1", 
      "        while i <= n:", 
      "            fact = fact * i", 
      "            i += 1", 
      "    return fact"
     ], 
     "language": "python", 
     "outputs": [], 
     "prompt_number": 1
    }, 
    {
     "cell_type": "code", 
     "collapsed": false, 
     "input": [
      "factorial(10)"
     ], 
     "language": "python", 
     "outputs": [
      {
       "output_type": "pyout", 
       "prompt_number": 31, 
       "text": [
        "3628800"
       ]
      }
     ], 
     "prompt_number": 31
    }, 
    {
     "cell_type": "markdown", 
     "source": [
      "**N\u00fameros primos?**"
     ]
    }, 
    {
     "cell_type": "code", 
     "collapsed": true, 
     "input": [
      "def esprimo(n):", 
      "  # Decide si el n\u00famero n es primo", 
      "  # v\u00e1lido para n>1 ", 
      "  creo_que_es_primo = True", 
      "  divisor = 2", 
      "  while (divisor < n) and (creo_que_es_primo):", 
      "    #print divisor", 
      "    if n % divisor == 0:", 
      "      creo_que_es_primo = False", 
      "      #print 'tengo un divisor = ', divisor", 
      "    divisor += 1", 
      "  return creo_que_es_primo"
     ], 
     "language": "python", 
     "outputs": [], 
     "prompt_number": 32
    }, 
    {
     "cell_type": "code", 
     "collapsed": false, 
     "input": [
      "esprimo(103)"
     ], 
     "language": "python", 
     "outputs": [
      {
       "output_type": "pyout", 
       "prompt_number": 33, 
       "text": [
        "True"
       ]
      }
     ], 
     "prompt_number": 33
    }, 
    {
     "cell_type": "markdown", 
     "source": [
      "##El bucle for-in", 
      "En Python hay otro tipo de bucles. El bucle *for-in* se puede leer", 
      "como: **para todo elemento de una serie, hacer ..**", 
      "Tiene el siguiente aspecto", 
      "`", 
      "for variable in serie_de_valores:", 
      "    acci\u00f3n", 
      "    acci\u00f3n", 
      "    ...", 
      "    acci\u00f3n", 
      "`"
     ]
    }, 
    {
     "cell_type": "markdown", 
     "source": [
      "**Ejemplo** Tabla de multiplicar"
     ]
    }, 
    {
     "cell_type": "code", 
     "collapsed": true, 
     "input": [
      "def tabla_multiplicar(n):", 
      "    for i in [1, 2, 3, 4, 5, 6, 8, 7, 9, 10]:", 
      "        print n, 'x', i, '=', n*i"
     ], 
     "language": "python", 
     "outputs": [], 
     "prompt_number": 34
    }, 
    {
     "cell_type": "code", 
     "collapsed": false, 
     "input": [
      "tabla_multiplicar(5)"
     ], 
     "language": "python", 
     "outputs": [
      {
       "output_type": "stream", 
       "stream": "stdout", 
       "text": [
        "5 x 1 = 5", 
        "5 x 2 = 10", 
        "5 x 3 = 15", 
        "5 x 4 = 20", 
        "5 x 5 = 25", 
        "5 x 6 = 30", 
        "5 x 8 = 40", 
        "5 x 7 = 35", 
        "5 x 9 = 45", 
        "5 x 10 = 50"
       ]
      }
     ], 
     "prompt_number": 35
    }, 
    {
     "cell_type": "markdown", 
     "source": [
      "Si la lista es muy larga, se puede utilizar **range**"
     ]
    }, 
    {
     "cell_type": "code", 
     "collapsed": true, 
     "input": [
      "def tabla_multiplicar(n):", 
      "    for i in range(1,11):", 
      "        print n, 'x', i, '=', n*i"
     ], 
     "language": "python", 
     "outputs": [], 
     "prompt_number": 22
    }, 
    {
     "cell_type": "code", 
     "collapsed": false, 
     "input": [
      "tabla_multiplicar(8)"
     ], 
     "language": "python", 
     "outputs": [
      {
       "output_type": "stream", 
       "stream": "stdout", 
       "text": [
        "8 x 1 = 8", 
        "8 x 2 = 16", 
        "8 x 3 = 24", 
        "8 x 4 = 32", 
        "8 x 5 = 40", 
        "8 x 6 = 48", 
        "8 x 7 = 56", 
        "8 x 8 = 64", 
        "8 x 9 = 72", 
        "8 x 10 = 80"
       ]
      }
     ], 
     "prompt_number": 23
    }, 
    {
     "cell_type": "markdown", 
     "source": [
      "**range** tiene vida propia"
     ]
    }, 
    {
     "cell_type": "code", 
     "collapsed": false, 
     "input": [
      "range(20)"
     ], 
     "language": "python", 
     "outputs": [
      {
       "output_type": "pyout", 
       "prompt_number": 36, 
       "text": [
        "[0, 1, 2, 3, 4, 5, 6, 7, 8, 9, 10, 11, 12, 13, 14, 15, 16, 17, 18, 19]"
       ]
      }
     ], 
     "prompt_number": 36
    }, 
    {
     "cell_type": "code", 
     "collapsed": false, 
     "input": [
      "range(3,16)"
     ], 
     "language": "python", 
     "outputs": [
      {
       "output_type": "pyout", 
       "prompt_number": 37, 
       "text": [
        "[3, 4, 5, 6, 7, 8, 9, 10, 11, 12, 13, 14, 15]"
       ]
      }
     ], 
     "prompt_number": 37
    }, 
    {
     "cell_type": "code", 
     "collapsed": false, 
     "input": [
      "range(1,20,3)"
     ], 
     "language": "python", 
     "outputs": [
      {
       "output_type": "pyout", 
       "prompt_number": 38, 
       "text": [
        "[1, 4, 7, 10, 13, 16, 19]"
       ]
      }
     ], 
     "prompt_number": 38
    }, 
    {
     "cell_type": "markdown", 
     "source": [
      "**range** es un caso particular de lista"
     ]
    }, 
    {
     "cell_type": "code", 
     "collapsed": true, 
     "input": [], 
     "language": "python", 
     "outputs": []
    }
   ]
  }
 ]
}