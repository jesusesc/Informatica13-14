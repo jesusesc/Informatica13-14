{
 "metadata": {
  "name": "5-semana"
 }, 
 "nbformat": 2, 
 "worksheets": [
  {
   "cells": [
    {
     "cell_type": "markdown", 
     "source": [
      "Funciones sencillas", 
      "===================", 
      "Podemos agrupar diversos c\u00e1lculos en funciones.", 
      "#### Ejemplo: \u00bfes rect\u00e1ngulo?"
     ]
    }, 
    {
     "cell_type": "code", 
     "collapsed": false, 
     "input": [
      "# punto A", 
      "x1 = 0", 
      "y1 = 0", 
      "# punto B", 
      "x2 = 0", 
      "y2 = 1", 
      "# punto C", 
      "x3 = 3", 
      "y3 = 1", 
      "# punto D", 
      "x4 = 3", 
      "y4 = 0", 
      "#calculamos las distancias entre ellos", 
      "from math import sqrt", 
      "dAB = sqrt((x2 - x1)**2 + (y2 - y1)**2)", 
      "dAC = sqrt((x3 - x1)**2 + (y3 - y1)**2)", 
      "dAD = sqrt((x4 - x1)**2 + (y4 - y1)**2)", 
      "dBC = sqrt((x3 - x2)**2 + (y3 - y2)**2)", 
      "dBD = sqrt((x4 - x2)**2 + (y4 - y2)**2)", 
      "dCD = sqrt((x4 - x3)**2 + (y4 - y3)**2)", 
      "rectangulo = (dAB == dCD) and (dAC == dBD) and (dAD == dBC)", 
      "rectangulo"
     ], 
     "language": "python", 
     "outputs": [
      {
       "output_type": "pyout", 
       "prompt_number": 2, 
       "text": [
        "True"
       ]
      }
     ], 
     "prompt_number": 2
    }, 
    {
     "cell_type": "markdown", 
     "source": [
      "Podemos simplificar creando la funci\u00f3n **distancia**"
     ]
    }, 
    {
     "cell_type": "code", 
     "collapsed": false, 
     "input": [
      "def distancia(x1, y1, x2, y2):", 
      "    return sqrt((x2 - x1)**2 + (y2 - y1)**2)"
     ], 
     "language": "python", 
     "outputs": [], 
     "prompt_number": 4
    }, 
    {
     "cell_type": "code", 
     "collapsed": false, 
     "input": [
      "distancia(0,0,3,0)"
     ], 
     "language": "python", 
     "outputs": [
      {
       "output_type": "pyout", 
       "prompt_number": 5, 
       "text": [
        "3.0"
       ]
      }
     ], 
     "prompt_number": 5
    }, 
    {
     "cell_type": "code", 
     "collapsed": false, 
     "input": [
      "dAB = distancia(x1, y1, x2, y2)", 
      "dAC = distancia(x1, y1, x3, y3)", 
      "dAD = distancia(x1, y1, x4, y4)", 
      "dBC = distancia(x2, y2, x3, y3)", 
      "dBD = distancia(x2, y2, x4, y4)", 
      "dCD = distancia(x3, y3, x4, y4)", 
      "rectangulo = (dAB == dCD) and (dAC == dBD) and (dAD == dBC)", 
      "rectangulo"
     ], 
     "language": "python", 
     "outputs": [
      {
       "output_type": "pyout", 
       "prompt_number": 6, 
       "text": [
        "True"
       ]
      }
     ], 
     "prompt_number": 6
    }, 
    {
     "cell_type": "markdown", 
     "source": [
      "# Definici\u00f3n de funciones"
     ]
    }, 
    {
     "cell_type": "code", 
     "collapsed": true, 
     "input": [
      "def cuadrado(x):", 
      "    return x**2"
     ], 
     "language": "python", 
     "outputs": [], 
     "prompt_number": 7
    }, 
    {
     "cell_type": "markdown", 
     "source": [
      "Observa el _sangrado._ La instrucci\u00f3n *return* siempre indica el valor que devuelve la funci\u00f3n"
     ]
    }, 
    {
     "cell_type": "code", 
     "collapsed": false, 
     "input": [
      "a = 7", 
      "cuadrado(a)"
     ], 
     "language": "python", 
     "outputs": [
      {
       "output_type": "pyout", 
       "prompt_number": 8, 
       "text": [
        "49"
       ]
      }
     ], 
     "prompt_number": 8
    }, 
    {
     "cell_type": "code", 
     "collapsed": false, 
     "input": [
      "cuadrado(5)"
     ], 
     "language": "python", 
     "outputs": [
      {
       "output_type": "pyout", 
       "prompt_number": 9, 
       "text": [
        "25"
       ]
      }
     ], 
     "prompt_number": 9
    }, 
    {
     "cell_type": "code", 
     "collapsed": false, 
     "input": [
      "x = 10", 
      "cuadrado(x)"
     ], 
     "language": "python", 
     "outputs": [
      {
       "output_type": "pyout", 
       "prompt_number": 10, 
       "text": [
        "100"
       ]
      }
     ], 
     "prompt_number": 10
    }, 
    {
     "cell_type": "markdown", 
     "source": [
      "**Cuidado:** ", 
      "", 
      "  + Definir no es lo mismo que llamar a la funci\u00f3n.", 
      "  + Los par\u00e1metros no son variables"
     ]
    }, 
    {
     "cell_type": "code", 
     "collapsed": true, 
     "input": [
      "# Las funciones se puede llamar entre si", 
      "from math import *", 
      "def xsin(x):", 
      "    return x*sin(x)"
     ], 
     "language": "python", 
     "outputs": [], 
     "prompt_number": 13
    }, 
    {
     "cell_type": "code", 
     "collapsed": false, 
     "input": [
      "xsin(3)"
     ], 
     "language": "python", 
     "outputs": [
      {
       "output_type": "pyout", 
       "prompt_number": 14, 
       "text": [
        "0.4233600241796016"
       ]
      }
     ], 
     "prompt_number": 14
    }, 
    {
     "cell_type": "code", 
     "collapsed": false, 
     "input": [
      "xsin(pi)"
     ], 
     "language": "python", 
     "outputs": [
      {
       "output_type": "pyout", 
       "prompt_number": 15, 
       "text": [
        "3.847214324707763e-16"
       ]
      }
     ], 
     "prompt_number": 15
    }, 
    {
     "cell_type": "markdown", 
     "source": [
      "En el *cuerpo* de la funci\u00f3n puede haber diversas instrucciones."
     ]
    }, 
    {
     "cell_type": "code", 
     "collapsed": true, 
     "input": [
      "def cuadrado(x):", 
      "    resultado = x**2", 
      "    return resultado"
     ], 
     "language": "python", 
     "outputs": [], 
     "prompt_number": 16
    }, 
    {
     "cell_type": "code", 
     "collapsed": false, 
     "input": [
      "cuadrado(20)"
     ], 
     "language": "python", 
     "outputs": [
      {
       "output_type": "pyout", 
       "prompt_number": 17, 
       "text": [
        "400"
       ]
      }
     ], 
     "prompt_number": 17
    }, 
    {
     "cell_type": "code", 
     "collapsed": true, 
     "input": [
      "def longitud_circunferencia(radio):", 
      "    return 2*radio*pi", 
      "    ", 
      "def area_circunferencia(radio):", 
      "    return pi * radio * radio", 
      "    "
     ], 
     "language": "python", 
     "outputs": [], 
     "prompt_number": 18
    }, 
    {
     "cell_type": "code", 
     "collapsed": false, 
     "input": [
      "longitud_circunferencia(10)"
     ], 
     "language": "python", 
     "outputs": [
      {
       "output_type": "pyout", 
       "prompt_number": 19, 
       "text": [
        "62.83185307179586"
       ]
      }
     ], 
     "prompt_number": 19
    }, 
    {
     "cell_type": "code", 
     "collapsed": false, 
     "input": [
      "area_circunferencia(10)"
     ], 
     "language": "python", 
     "outputs": [
      {
       "output_type": "pyout", 
       "prompt_number": 20, 
       "text": [
        "314.1592653589793"
       ]
      }
     ], 
     "prompt_number": 20
    }, 
    {
     "cell_type": "markdown", 
     "source": [
      "Las funciones no s\u00f3lo sirven para tipos num\u00e9ricos"
     ]
    }, 
    {
     "cell_type": "code", 
     "collapsed": true, 
     "input": [
      "def mayor_de_edad(n):", 
      "    return (n >= 18)"
     ], 
     "language": "python", 
     "outputs": [], 
     "prompt_number": 21
    }, 
    {
     "cell_type": "code", 
     "collapsed": false, 
     "input": [
      "mayor_de_edad(15)"
     ], 
     "language": "python", 
     "outputs": [
      {
       "output_type": "pyout", 
       "prompt_number": 22, 
       "text": [
        "False"
       ]
      }
     ], 
     "prompt_number": 22
    }, 
    {
     "cell_type": "code", 
     "collapsed": false, 
     "input": [
      "mayor_de_edad(20)"
     ], 
     "language": "python", 
     "outputs": [
      {
       "output_type": "pyout", 
       "prompt_number": 23, 
       "text": [
        "True"
       ]
      }
     ], 
     "prompt_number": 23
    }, 
    {
     "cell_type": "markdown", 
     "source": [
      "# Funciones con varios par\u00e1metros", 
      "Las funciones pueden tener varios par\u00e1metros"
     ]
    }, 
    {
     "cell_type": "code", 
     "collapsed": true, 
     "input": [
      "def producto(a, b):", 
      "    return a*b", 
      "", 
      "def area_rectangulo(base, altura):", 
      "    resultado = producto(base,altura)", 
      "    return resultado", 
      "", 
      "def area_triangulo(base, altura):", 
      "    return producto(base, altura)/2.0"
     ], 
     "language": "python", 
     "outputs": [], 
     "prompt_number": 26
    }, 
    {
     "cell_type": "code", 
     "collapsed": false, 
     "input": [
      "area_rectangulo(3,5)"
     ], 
     "language": "python", 
     "outputs": [
      {
       "output_type": "pyout", 
       "prompt_number": 27, 
       "text": [
        "15"
       ]
      }
     ], 
     "prompt_number": 27
    }, 
    {
     "cell_type": "code", 
     "collapsed": false, 
     "input": [
      "area_triangulo(3,5)"
     ], 
     "language": "python", 
     "outputs": [
      {
       "output_type": "pyout", 
       "prompt_number": 28, 
       "text": [
        "7.5"
       ]
      }
     ], 
     "prompt_number": 28
    }, 
    {
     "cell_type": "markdown", 
     "source": [
      "Para trabajar con funciones m\u00e1s complicadas, el int\u00e9rprete de Python ", 
      "puede ser inc\u00f3modo. Podemos escribir nuestras funciones en ficheros", 
      ".py y luego llamarlas."
     ]
    }, 
    {
     "cell_type": "markdown", 
     "source": [
      "--"
     ]
    }, 
    {
     "cell_type": "code", 
     "collapsed": true, 
     "input": [], 
     "language": "python", 
     "outputs": []
    }
   ]
  }
 ]
}