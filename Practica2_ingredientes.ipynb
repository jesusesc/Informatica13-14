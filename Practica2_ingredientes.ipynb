{
 "metadata": {
  "name": "Practica2_ingredientes"
 }, 
 "nbformat": 2, 
 "worksheets": [
  {
   "cells": [
    {
     "cell_type": "markdown", 
     "source": [
      "#Pr\u00e1ctica 2: Fractales de Newton "
     ]
    }, 
    {
     "cell_type": "markdown", 
     "source": [
      "##Ingrediente 1: Funciones que admiten otras funciones como par\u00e1metros", 
      "Al definir una funci\u00f3n, algunos de sus par\u00e1metros", 
      "pueden ser funciones que se llaman dentro de nuestra funci\u00f3n"
     ]
    }, 
    {
     "cell_type": "code", 
     "collapsed": true, 
     "input": [
      "def asigna(f, n):", 
      "    '''", 
      "    Esta funci\u00f3n devuelve una lista de tama\u00f1o n", 
      "    que consiste en aplicar el valor de f a los", 
      "    valores entre 0 y n-1", 
      "    '''", 
      "    lista = []", 
      "    i = 0", 
      "    while i< n:", 
      "        lista.append(f(i))", 
      "        i += 1", 
      "    return lista"
     ], 
     "language": "python", 
     "outputs": [], 
     "prompt_number": 4
    }, 
    {
     "cell_type": "code", 
     "collapsed": true, 
     "input": [
      "def f(x):", 
      "    return x + 1", 
      "def g(x):", 
      "    return x**2"
     ], 
     "language": "python", 
     "outputs": [], 
     "prompt_number": 5
    }, 
    {
     "cell_type": "code", 
     "collapsed": false, 
     "input": [
      "asigna(f,10)"
     ], 
     "language": "python", 
     "outputs": [
      {
       "output_type": "pyout", 
       "prompt_number": 6, 
       "text": [
        "[1, 2, 3, 4, 5, 6, 7, 8, 9, 10]"
       ]
      }
     ], 
     "prompt_number": 6
    }, 
    {
     "cell_type": "code", 
     "collapsed": false, 
     "input": [
      "asigna(g,10)"
     ], 
     "language": "python", 
     "outputs": [
      {
       "output_type": "pyout", 
       "prompt_number": 7, 
       "text": [
        "[0, 1, 4, 9, 16, 25, 36, 49, 64, 81]"
       ]
      }
     ], 
     "prompt_number": 7
    }, 
    {
     "cell_type": "code", 
     "collapsed": true, 
     "input": [
      "def compone(f,g,x):", 
      "    '''", 
      "    compone las funciones f y g", 
      "    '''", 
      "    return f(g(x))"
     ], 
     "language": "python", 
     "outputs": [], 
     "prompt_number": 8
    }, 
    {
     "cell_type": "code", 
     "collapsed": false, 
     "input": [
      "compone(f,g,10)"
     ], 
     "language": "python", 
     "outputs": [
      {
       "output_type": "pyout", 
       "prompt_number": 9, 
       "text": [
        "101"
       ]
      }
     ], 
     "prompt_number": 9
    }, 
    {
     "cell_type": "code", 
     "collapsed": false, 
     "input": [
      "compone(g,f,10)"
     ], 
     "language": "python", 
     "outputs": [
      {
       "output_type": "pyout", 
       "prompt_number": 10, 
       "text": [
        "121"
       ]
      }
     ], 
     "prompt_number": 10
    }, 
    {
     "cell_type": "markdown", 
     "source": [
      "##Ingrediente 2: N\u00fameros complejos", 
      "Manejar n\u00fameros complejos con Python es sencillo. Basta utilizar ", 
      "la funci\u00f3n `complex`"
     ]
    }, 
    {
     "cell_type": "code", 
     "collapsed": false, 
     "input": [
      "z = complex(2,3)", 
      "z"
     ], 
     "language": "python", 
     "outputs": [
      {
       "output_type": "pyout", 
       "prompt_number": 11, 
       "text": [
        "(2+3j)"
       ]
      }
     ], 
     "prompt_number": 11
    }, 
    {
     "cell_type": "markdown", 
     "source": [
      "Observa que la tradicional \"i\" se escribe como \"j\".", 
      "", 
      "Podemos recuperar la parte real y la parte imaginaria."
     ]
    }, 
    {
     "cell_type": "code", 
     "collapsed": false, 
     "input": [
      "print z.real, z.imag"
     ], 
     "language": "python", 
     "outputs": [
      {
       "output_type": "stream", 
       "stream": "stdout", 
       "text": [
        "2.0 3.0"
       ]
      }
     ], 
     "prompt_number": 12
    }, 
    {
     "cell_type": "code", 
     "collapsed": false, 
     "input": [
      "z == z.real + (z.imag)*1j"
     ], 
     "language": "python", 
     "outputs": [
      {
       "output_type": "pyout", 
       "prompt_number": 13, 
       "text": [
        "True"
       ]
      }
     ], 
     "prompt_number": 13
    }, 
    {
     "cell_type": "code", 
     "collapsed": false, 
     "input": [
      "#Calcular el m\u00f3dulo de un n\u00famero complejo", 
      "abs(z)"
     ], 
     "language": "python", 
     "outputs": [
      {
       "output_type": "pyout", 
       "prompt_number": 14, 
       "text": [
        "3.605551275463989"
       ]
      }
     ], 
     "prompt_number": 14
    }, 
    {
     "cell_type": "markdown", 
     "source": [
      "Las operaciones que hemos efectuado hasta ahora con n\u00fameros", 
      "reales (flotantes) las podemos ejecutar ahora con n\u00fameros", 
      "complejos"
     ]
    }, 
    {
     "cell_type": "code", 
     "collapsed": false, 
     "input": [
      "y = complex(0,-2)", 
      "y"
     ], 
     "language": "python", 
     "outputs": [
      {
       "output_type": "pyout", 
       "prompt_number": 15, 
       "text": [
        "-2j"
       ]
      }
     ], 
     "prompt_number": 15
    }, 
    {
     "cell_type": "code", 
     "collapsed": false, 
     "input": [
      "z + y"
     ], 
     "language": "python", 
     "outputs": [
      {
       "output_type": "pyout", 
       "prompt_number": 16, 
       "text": [
        "(2+1j)"
       ]
      }
     ], 
     "prompt_number": 16
    }, 
    {
     "cell_type": "code", 
     "collapsed": false, 
     "input": [
      "z - y"
     ], 
     "language": "python", 
     "outputs": [
      {
       "output_type": "pyout", 
       "prompt_number": 17, 
       "text": [
        "(2+5j)"
       ]
      }
     ], 
     "prompt_number": 17
    }, 
    {
     "cell_type": "code", 
     "collapsed": false, 
     "input": [
      "z*y"
     ], 
     "language": "python", 
     "outputs": [
      {
       "output_type": "pyout", 
       "prompt_number": 18, 
       "text": [
        "(6-4j)"
       ]
      }
     ], 
     "prompt_number": 18
    }, 
    {
     "cell_type": "code", 
     "collapsed": false, 
     "input": [
      "z/y"
     ], 
     "language": "python", 
     "outputs": [
      {
       "output_type": "pyout", 
       "prompt_number": 19, 
       "text": [
        "(-1.5+1j)"
       ]
      }
     ], 
     "prompt_number": 19
    }, 
    {
     "cell_type": "code", 
     "collapsed": false, 
     "input": [
      "y**2"
     ], 
     "language": "python", 
     "outputs": [
      {
       "output_type": "pyout", 
       "prompt_number": 20, 
       "text": [
        "(-4-0j)"
       ]
      }
     ], 
     "prompt_number": 20
    }, 
    {
     "cell_type": "code", 
     "collapsed": false, 
     "input": [
      "#podemos utilizar las funciones anteriormente definidas", 
      "compone(f,g,y)"
     ], 
     "language": "python", 
     "outputs": [
      {
       "output_type": "pyout", 
       "prompt_number": 21, 
       "text": [
        "(-3+0j)"
       ]
      }
     ], 
     "prompt_number": 21
    }, 
    {
     "cell_type": "markdown", 
     "source": [
      "##Ingrediente 3: el m\u00f3dulo PIL", 
      "Ver http://www.pythonware.com/products/pil/", 
      "", 
      "Con la librer\u00eda PIL podemos manejar im\u00e1genes en Python. Para", 
      "nuestro prop\u00f3sito, basta utilizar unas pocas instrucciones, que se ", 
      "entienden bien a trav\u00e9s de ejemplos."
     ]
    }, 
    {
     "cell_type": "code", 
     "collapsed": false, 
     "input": [
      "#Ejemplo 1", 
      "from PIL import Image", 
      "red = (255,0,0)", 
      "green = (0,255,0)", 
      "blue = (0,0,255)", 
      "width = 300", 
      "height = 200", 
      "margin = 10", 
      "box_width = width + margin", 
      "box_height = height + margin", 
      "k=50", 
      "i = Image.new(\"RGB\", (width,height), \"red\")", 
      "for x in range(height):", 
      "    i.putpixel((x,x), green)", 
      "    i.putpixel((x+k,x), blue)", 
      "i.show()"
     ], 
     "language": "python", 
     "outputs": [], 
     "prompt_number": 23
    }, 
    {
     "cell_type": "code", 
     "collapsed": false, 
     "input": [
      "im = Image.new(\"RGB\", (box_width,box_height), \"white\")", 
      "#represento la grafica de x^2 entre -1 y 1", 
      "for x in xrange(width):", 
      "    #transformo el punto en un n\u00famero entre -1 y 1", 
      "    a = (2.0/width)*x - 1", 
      "    b = a**2", 
      "    #transformo b, situado entre 0 y 1, en un pixel entre 0 y height", 
      "    y = int(height*(1-b))", 
      "    #print a, b, x, y", 
      "    im.putpixel((x,y), green)", 
      "im.show()    "
     ], 
     "language": "python", 
     "outputs": [], 
     "prompt_number": 25
    }, 
    {
     "cell_type": "code", 
     "collapsed": true, 
     "input": [], 
     "language": "python", 
     "outputs": []
    }
   ]
  }
 ]
}