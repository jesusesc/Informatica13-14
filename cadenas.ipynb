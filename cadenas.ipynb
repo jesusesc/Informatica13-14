{
 "metadata": {
  "name": "cadenas"
 }, 
 "nbformat": 2, 
 "worksheets": [
  {
   "cells": [
    {
     "cell_type": "markdown", 
     "source": [
      "#Tipo cadena"
     ]
    }, 
    {
     "cell_type": "markdown", 
     "source": [
      "En Python es muy sencillo manejar \"palabras\", es decir, ", 
      "cadenas de caracteres."
     ]
    }, 
    {
     "cell_type": "code", 
     "collapsed": true, 
     "input": [
      "a = 'Hola'"
     ], 
     "language": "python", 
     "outputs": [], 
     "prompt_number": 1
    }, 
    {
     "cell_type": "code", 
     "collapsed": false, 
     "input": [
      "b = 'Adios'", 
      "print a, b"
     ], 
     "language": "python", 
     "outputs": [
      {
       "output_type": "stream", 
       "stream": "stdout", 
       "text": [
        "Hola Adios"
       ]
      }
     ], 
     "prompt_number": 2
    }, 
    {
     "cell_type": "code", 
     "collapsed": false, 
     "input": [
      "#Podemos concatenar cadenas", 
      "c = a + b", 
      "c"
     ], 
     "language": "python", 
     "outputs": [
      {
       "output_type": "pyout", 
       "prompt_number": 3, 
       "text": [
        "'HolaAdios'"
       ]
      }
     ], 
     "prompt_number": 3
    }, 
    {
     "cell_type": "markdown", 
     "source": [
      "**Cuidado:** No hay que confundir las cadenas con otros tipos ", 
      "de datos, sobre todo num\u00e9ricos."
     ]
    }, 
    {
     "cell_type": "code", 
     "collapsed": false, 
     "input": [
      "a = '12'", 
      "b = 12", 
      "print a+a, b+b"
     ], 
     "language": "python", 
     "outputs": [
      {
       "output_type": "stream", 
       "stream": "stdout", 
       "text": [
        "1212 24"
       ]
      }
     ], 
     "prompt_number": 4
    }, 
    {
     "cell_type": "code", 
     "collapsed": false, 
     "input": [
      "#Las cadenas se pueden multiplicar", 
      "print a*10"
     ], 
     "language": "python", 
     "outputs": [
      {
       "output_type": "stream", 
       "stream": "stdout", 
       "text": [
        "12121212121212121212"
       ]
      }
     ], 
     "prompt_number": 6
    }, 
    {
     "cell_type": "code", 
     "collapsed": false, 
     "input": [
      "#Las cadenas se pueden comparar", 
      "a = 'acacia'", 
      "b = 'burro'", 
      "c = 'acaso'", 
      "a == b"
     ], 
     "language": "python", 
     "outputs": [
      {
       "output_type": "pyout", 
       "prompt_number": 7, 
       "text": [
        "False"
       ]
      }
     ], 
     "prompt_number": 7
    }, 
    {
     "cell_type": "code", 
     "collapsed": false, 
     "input": [
      "a < b"
     ], 
     "language": "python", 
     "outputs": [
      {
       "output_type": "pyout", 
       "prompt_number": 8, 
       "text": [
        "True"
       ]
      }
     ], 
     "prompt_number": 8
    }, 
    {
     "cell_type": "code", 
     "collapsed": false, 
     "input": [
      "a < c"
     ], 
     "language": "python", 
     "outputs": [
      {
       "output_type": "pyout", 
       "prompt_number": 9, 
       "text": [
        "True"
       ]
      }
     ], 
     "prompt_number": 9
    }, 
    {
     "cell_type": "markdown", 
     "source": [
      "## Algunas funciones \u00fatiles"
     ]
    }, 
    {
     "cell_type": "code", 
     "collapsed": false, 
     "input": [
      "a = 123", 
      "b = int(a) + 1", 
      "b"
     ], 
     "language": "python", 
     "outputs": [
      {
       "output_type": "pyout", 
       "prompt_number": 12, 
       "text": [
        "124"
       ]
      }
     ], 
     "prompt_number": 12
    }, 
    {
     "cell_type": "code", 
     "collapsed": false, 
     "input": [
      "c = '3.14'", 
      "d = float(c)", 
      "d"
     ], 
     "language": "python", 
     "outputs": [
      {
       "output_type": "pyout", 
       "prompt_number": 13, 
       "text": [
        "3.14"
       ]
      }
     ], 
     "prompt_number": 13
    }, 
    {
     "cell_type": "code", 
     "collapsed": false, 
     "input": [
      "e = str(d)", 
      "c == e"
     ], 
     "language": "python", 
     "outputs": [
      {
       "output_type": "pyout", 
       "prompt_number": 14, 
       "text": [
        "True"
       ]
      }
     ], 
     "prompt_number": 14
    }, 
    {
     "cell_type": "code", 
     "collapsed": false, 
     "input": [
      "m = 'a'", 
      "ord(m)"
     ], 
     "language": "python", 
     "outputs": [
      {
       "output_type": "pyout", 
       "prompt_number": 15, 
       "text": [
        "97"
       ]
      }
     ], 
     "prompt_number": 15
    }, 
    {
     "cell_type": "code", 
     "collapsed": false, 
     "input": [
      "chr(ord(m)+1)"
     ], 
     "language": "python", 
     "outputs": [
      {
       "output_type": "pyout", 
       "prompt_number": 16, 
       "text": [
        "'b'"
       ]
      }
     ], 
     "prompt_number": 16
    }, 
    {
     "cell_type": "code", 
     "collapsed": false, 
     "input": [
      "a = 'Hola'", 
      "a.upper()"
     ], 
     "language": "python", 
     "outputs": [
      {
       "output_type": "pyout", 
       "prompt_number": 17, 
       "text": [
        "'HOLA'"
       ]
      }
     ], 
     "prompt_number": 17
    }, 
    {
     "cell_type": "code", 
     "collapsed": false, 
     "input": [
      "a.lower()"
     ], 
     "language": "python", 
     "outputs": [
      {
       "output_type": "pyout", 
       "prompt_number": 18, 
       "text": [
        "'hola'"
       ]
      }
     ], 
     "prompt_number": 18
    }, 
    {
     "cell_type": "markdown", 
     "source": [
      "##Caracteres especiales", 
      "", 
      "Adem\u00e1s de las \"letras\" ordinarias, hay caracteres especiales.", 
      "Hablaremos de dos:", 
      "", 
      "* Salto de l\u00ednea `\\n`", 
      "", 
      "* Tabulador `\\t`"
     ]
    }, 
    {
     "cell_type": "code", 
     "collapsed": true, 
     "input": [
      "s = 'Hace un bonito\\n d\u00eda'"
     ], 
     "language": "python", 
     "outputs": [], 
     "prompt_number": 23
    }, 
    {
     "cell_type": "code", 
     "collapsed": false, 
     "input": [
      "print s"
     ], 
     "language": "python", 
     "outputs": [
      {
       "output_type": "stream", 
       "stream": "stdout", 
       "text": [
        "Hace un bonito", 
        " d\u00eda"
       ]
      }
     ], 
     "prompt_number": 24
    }, 
    {
     "cell_type": "code", 
     "collapsed": false, 
     "input": [
      "s = 'Hace un bonito\\t d\u00eda'", 
      "print s"
     ], 
     "language": "python", 
     "outputs": [
      {
       "output_type": "stream", 
       "stream": "stdout", 
       "text": [
        "Hace un bonito\t d\u00eda"
       ]
      }
     ], 
     "prompt_number": 25
    }, 
    {
     "cell_type": "markdown", 
     "source": [
      "##M\u00e1s operaciones con cadenas.", 
      "Podemos calcular su longitud con `len`"
     ]
    }, 
    {
     "cell_type": "code", 
     "collapsed": false, 
     "input": [
      "a = 'Hola'", 
      "len(a)"
     ], 
     "language": "python", 
     "outputs": [
      {
       "output_type": "pyout", 
       "prompt_number": 26, 
       "text": [
        "4"
       ]
      }
     ], 
     "prompt_number": 26
    }, 
    {
     "cell_type": "code", 
     "collapsed": false, 
     "input": [
      "b = '' #cadena vac\u00eda", 
      "len(b)"
     ], 
     "language": "python", 
     "outputs": [
      {
       "output_type": "pyout", 
       "prompt_number": 27, 
       "text": [
        "0"
       ]
      }
     ], 
     "prompt_number": 27
    }, 
    {
     "cell_type": "code", 
     "collapsed": false, 
     "input": [
      "#Podemos acceder a cada caracter con su \u00edndice", 
      "cad2 = 'En un lugar de la Mancha'", 
      "print cad2", 
      "for i in range(len(cad2)):", 
      "    print cad2[i], '-',"
     ], 
     "language": "python", 
     "outputs": [
      {
       "output_type": "stream", 
       "stream": "stdout", 
       "text": [
        "En un lugar de la Mancha", 
        "E - n -   - u - n -   - l - u - g - a - r -   - d - e -   - l - a -   - M - a - n - c - h - a -"
       ]
      }
     ], 
     "prompt_number": 30
    }, 
    {
     "cell_type": "code", 
     "collapsed": false, 
     "input": [
      "for j in range(len(cad2)):", 
      "    print cad2[-(j+1)],"
     ], 
     "language": "python", 
     "outputs": [
      {
       "output_type": "stream", 
       "stream": "stdout", 
       "text": [
        "a h c n a M   a l   e d   r a g u l   n u   n E"
       ]
      }
     ], 
     "prompt_number": 32
    }, 
    {
     "cell_type": "code", 
     "collapsed": false, 
     "input": [
      "#podemos manejar SUBCADENAS", 
      "print cad2[3:5]", 
      "print cad2[:10]", 
      "print cad2[-6:-1]", 
      "print cad2[:]"
     ], 
     "language": "python", 
     "outputs": [
      {
       "output_type": "stream", 
       "stream": "stdout", 
       "text": [
        "un", 
        "En un luga", 
        "Manch", 
        "En un lugar de la Mancha"
       ]
      }
     ], 
     "prompt_number": 33
    }, 
    {
     "cell_type": "markdown", 
     "source": [
      "##Ejemplos"
     ]
    }, 
    {
     "cell_type": "markdown", 
     "source": [
      "### Calcula la letra del DNI"
     ]
    }, 
    {
     "cell_type": "code", 
     "collapsed": true, 
     "input": [
      "def dni(num):", 
      "    '''", 
      "    Funci\u00f3n que calcula la letra del DNI ", 
      "    a partir del n\u00famero", 
      "    '''", 
      "    tabla = 'TRWAGMYFPDXBNJZSQVHLCKE'", 
      "    posicion = num % 23", 
      "    return tabla[posicion]"
     ], 
     "language": "python", 
     "outputs": [], 
     "prompt_number": 37
    }, 
    {
     "cell_type": "code", 
     "collapsed": false, 
     "input": [
      "dni(1111111)"
     ], 
     "language": "python", 
     "outputs": [
      {
       "output_type": "pyout", 
       "prompt_number": 38, 
       "text": [
        "'G'"
       ]
      }
     ], 
     "prompt_number": 38
    }, 
    {
     "cell_type": "markdown", 
     "source": [
      "### Espacios en blanco"
     ]
    }, 
    {
     "cell_type": "code", 
     "collapsed": true, 
     "input": [
      "def blancos(cadena):", 
      "    '''", 
      "    Lee una cadena y muestra el n\u00famero de espacios ", 
      "    en blanco", 
      "    '''", 
      "    contador = 0", 
      "    for i in range(len(cadena)):", 
      "        if cadena[i] == ' ':", 
      "            contador+=1", 
      "    return contador"
     ], 
     "language": "python", 
     "outputs": [], 
     "prompt_number": 39
    }, 
    {
     "cell_type": "code", 
     "collapsed": false, 
     "input": [
      "s = 'En un lugar de la Mancha'", 
      "blancos(s)"
     ], 
     "language": "python", 
     "outputs": [
      {
       "output_type": "pyout", 
       "prompt_number": 40, 
       "text": [
        "5"
       ]
      }
     ], 
     "prompt_number": 40
    }, 
    {
     "cell_type": "markdown", 
     "source": [
      "### Cadenas alfab\u00e9ticas"
     ]
    }, 
    {
     "cell_type": "code", 
     "collapsed": true, 
     "input": [
      "'''", 
      "Una palabra el \"alfab\u00e9tica\" si todas", 
      "sus letras est\u00e1n ordenadas alfab\u00e9ticamente.", 
      "'''", 
      "", 
      "def alfabetica(cadena):", 
      "    alfa = True", 
      "    i = 0", 
      "    while (i<len(cadena)-1) and alfa:", 
      "        alfa = cadena[i] < cadena[i+1]", 
      "        i+=1", 
      "    return alfa"
     ], 
     "language": "python", 
     "outputs": [], 
     "prompt_number": 41
    }, 
    {
     "cell_type": "code", 
     "collapsed": false, 
     "input": [
      "a = 'abcdexy'", 
      "alfabetica(a)"
     ], 
     "language": "python", 
     "outputs": [
      {
       "output_type": "pyout", 
       "prompt_number": 42, 
       "text": [
        "True"
       ]
      }
     ], 
     "prompt_number": 42
    }, 
    {
     "cell_type": "code", 
     "collapsed": false, 
     "input": [
      "b = 'abcxzy'", 
      "alfabetica(b)"
     ], 
     "language": "python", 
     "outputs": [
      {
       "output_type": "pyout", 
       "prompt_number": 43, 
       "text": [
        "False"
       ]
      }
     ], 
     "prompt_number": 43
    }, 
    {
     "cell_type": "markdown", 
     "source": [
      "### Pal\u00edndromos"
     ]
    }, 
    {
     "cell_type": "code", 
     "collapsed": true, 
     "input": [
      "'''", 
      "Determina si una palabra es un pal\u00edndromo", 
      "'''", 
      "", 
      "def palindromo(cadena):", 
      "    palin = True", 
      "    s = len(cadena)", 
      "    i = 0", 
      "    while (i<s/2) and palin:", 
      "        palin = cadena[i] == cadena[s-i-1]", 
      "        i+=1", 
      "    return palin"
     ], 
     "language": "python", 
     "outputs": [], 
     "prompt_number": 44
    }, 
    {
     "cell_type": "code", 
     "collapsed": false, 
     "input": [
      "palindromo('abcba')"
     ], 
     "language": "python", 
     "outputs": [
      {
       "output_type": "pyout", 
       "prompt_number": 45, 
       "text": [
        "True"
       ]
      }
     ], 
     "prompt_number": 45
    }, 
    {
     "cell_type": "code", 
     "collapsed": false, 
     "input": [
      "palindromo('Hola')"
     ], 
     "language": "python", 
     "outputs": [
      {
       "output_type": "pyout", 
       "prompt_number": 46, 
       "text": [
        "False"
       ]
      }
     ], 
     "prompt_number": 46
    }, 
    {
     "cell_type": "code", 
     "collapsed": true, 
     "input": [], 
     "language": "python", 
     "outputs": []
    }
   ]
  }
 ]
}