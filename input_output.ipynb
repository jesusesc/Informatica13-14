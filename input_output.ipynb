{
 "metadata": {
  "name": "input_output"
 }, 
 "nbformat": 2, 
 "worksheets": [
  {
   "cells": [
    {
     "cell_type": "markdown", 
     "source": [
      "#Entrada y Salida"
     ]
    }, 
    {
     "cell_type": "markdown", 
     "source": [
      "##Lectura de datos de teclado. Raw_input()", 
      "", 
      "Podemos leer datos desde el teclado, de ", 
      "forma interactiva. La forma de hacerlo es utilizar la funci\u00f3n", 
      "**raw_input()**. ", 
      "", 
      "Esta funci\u00f3n hace lo siguiente: ", 
      "detiene la ejecuci\u00f3n del programa y espera a que el usuario ", 
      "escriba un texto y pulse la tecla de retorno de carro; ", 
      "en ese momento prosigue la ejecuci\u00f3n y ", 
      "la funci\u00f3n devuelve una cadena con el texto que ", 
      "tecle\u00f3 el usuario.", 
      "", 
      "Si deseas que el dato sea un valor flotante, ", 
      "debes transformar la cadena devuelta por ", 
      "raw_input utilizando la funci\u00f3n **float**.", 
      "Lo mismo con los valores enteros, utilizando la funci\u00f3n **int**.", 
      "", 
      "La funci\u00f3n raw_input  acepta un argumento: ", 
      "una cadena con el mensaje que debe mostrar.", 
      "", 
      "Posibles llamadas: ", 
      "", 
      "+ `x = raw_input()`", 
      "", 
      "+ `x = float(raw_input())`", 
      "", 
      "+ `x = int(raw_intput())`", 
      "", 
      "+ `x = raw_input('Dato = ')`", 
      "", 
      ""
     ]
    }, 
    {
     "cell_type": "markdown", 
     "source": [
      "##Presentaci\u00f3n de datos por pantalla: `print`", 
      "", 
      "Para presentar algo por pantalla, basta utilizar la ", 
      "instrucci\u00f3n `print`"
     ]
    }, 
    {
     "cell_type": "code", 
     "collapsed": false, 
     "input": [
      "a = 5", 
      "print a"
     ], 
     "language": "python", 
     "outputs": [
      {
       "output_type": "stream", 
       "stream": "stdout", 
       "text": [
        "5"
       ]
      }
     ], 
     "prompt_number": 5
    }, 
    {
     "cell_type": "markdown", 
     "source": [
      "Podemos presentar varios datos separados por comas."
     ]
    }, 
    {
     "cell_type": "code", 
     "collapsed": false, 
     "input": [
      "print a, 2*a, a*a"
     ], 
     "language": "python", 
     "outputs": [
      {
       "output_type": "stream", 
       "stream": "stdout", 
       "text": [
        "5 10 25"
       ]
      }
     ], 
     "prompt_number": 6
    }, 
    {
     "cell_type": "markdown", 
     "source": [
      "Tambi\u00e9n podemos presentar mensajes de texto, entre comillas."
     ]
    }, 
    {
     "cell_type": "code", 
     "collapsed": false, 
     "input": [
      "print a,'al cuadrado es',a*a"
     ], 
     "language": "python", 
     "outputs": [
      {
       "output_type": "stream", 
       "stream": "stdout", 
       "text": [
        "5 al cuadrado es 25"
       ]
      }
     ], 
     "prompt_number": 7
    }, 
    {
     "cell_type": "markdown", 
     "source": [
      "Podemos evitar el salto de l\u00ednea con una coma al final."
     ]
    }, 
    {
     "cell_type": "markdown", 
     "source": [
      "###Salida con formato"
     ]
    }, 
    {
     "cell_type": "markdown", 
     "source": [
      "Para mejorar las presentaciones, podemos dar distintos formatos", 
      "a la salida."
     ]
    }, 
    {
     "cell_type": "code", 
     "collapsed": false, 
     "input": [
      "a = 0.5", 
      "i = 1", 
      "while i < 11:", 
      "    print a,'elevado a',i,'es',a**i", 
      "    i+=1"
     ], 
     "language": "python", 
     "outputs": [
      {
       "output_type": "stream", 
       "stream": "stdout", 
       "text": [
        "0.5 elevado a 1 es 0.5", 
        "0.5 elevado a 2 es 0.25", 
        "0.5 elevado a 3 es 0.125", 
        "0.5 elevado a 4 es 0.0625", 
        "0.5 elevado a 5 es 0.03125", 
        "0.5 elevado a 6 es 0.015625", 
        "0.5 elevado a 7 es 0.0078125", 
        "0.5 elevado a 8 es 0.00390625", 
        "0.5 elevado a 9 es 0.001953125", 
        "0.5 elevado a 10 es 0.0009765625"
       ]
      }
     ], 
     "prompt_number": 16
    }, 
    {
     "cell_type": "code", 
     "collapsed": false, 
     "input": [
      "a = 0.5", 
      "i = 1", 
      "while i < 11:", 
      "    print '%f elevado a %d es %f' %(a,i,a**i)", 
      "    i+=1"
     ], 
     "language": "python", 
     "outputs": [
      {
       "output_type": "stream", 
       "stream": "stdout", 
       "text": [
        "0.500000 elevado a 1 es 0.500000", 
        "0.500000 elevado a 2 es 0.250000", 
        "0.500000 elevado a 3 es 0.125000", 
        "0.500000 elevado a 4 es 0.062500", 
        "0.500000 elevado a 5 es 0.031250", 
        "0.500000 elevado a 6 es 0.015625", 
        "0.500000 elevado a 7 es 0.007812", 
        "0.500000 elevado a 8 es 0.003906", 
        "0.500000 elevado a 9 es 0.001953", 
        "0.500000 elevado a 10 es 0.000977"
       ]
      }
     ], 
     "prompt_number": 17
    }, 
    {
     "cell_type": "code", 
     "collapsed": false, 
     "input": [
      "a = 0.85", 
      "i = 1", 
      "while i < 11:", 
      "    print '%4.2f elevado a %2d es %5.3f' %(a,i,a**i)", 
      "    i+=1"
     ], 
     "language": "python", 
     "outputs": [
      {
       "output_type": "stream", 
       "stream": "stdout", 
       "text": [
        "0.85 elevado a  1 es 0.850", 
        "0.85 elevado a  2 es 0.722", 
        "0.85 elevado a  3 es 0.614", 
        "0.85 elevado a  4 es 0.522", 
        "0.85 elevado a  5 es 0.444", 
        "0.85 elevado a  6 es 0.377", 
        "0.85 elevado a  7 es 0.321", 
        "0.85 elevado a  8 es 0.272", 
        "0.85 elevado a  9 es 0.232", 
        "0.85 elevado a 10 es 0.197"
       ]
      }
     ], 
     "prompt_number": 20
    }, 
    {
     "cell_type": "markdown", 
     "source": [
      "Aparte de `%d` y `%f` existe la marca `%s` para cadenas"
     ]
    }, 
    {
     "cell_type": "code", 
     "collapsed": false, 
     "input": [
      "c = 'X'", 
      "i = 0", 
      "while i < 10:", 
      "    print 'La cadena es', c", 
      "    c = c + 'Y'", 
      "    i += 1"
     ], 
     "language": "python", 
     "outputs": [
      {
       "output_type": "stream", 
       "stream": "stdout", 
       "text": [
        "La cadena es X", 
        "La cadena es XY", 
        "La cadena es XYY", 
        "La cadena es XYYY", 
        "La cadena es XYYYY", 
        "La cadena es XYYYYY", 
        "La cadena es XYYYYYY", 
        "La cadena es XYYYYYYY", 
        "La cadena es XYYYYYYYY", 
        "La cadena es XYYYYYYYYY"
       ]
      }
     ], 
     "prompt_number": 21
    }, 
    {
     "cell_type": "code", 
     "collapsed": false, 
     "input": [
      "c = 'X'", 
      "i = 0", 
      "while i < 10:", 
      "    print 'La cadena es %10s' %(c)", 
      "    c = c + 'Y'", 
      "    i += 1"
     ], 
     "language": "python", 
     "outputs": [
      {
       "output_type": "stream", 
       "stream": "stdout", 
       "text": [
        "La cadena es          X", 
        "La cadena es         XY", 
        "La cadena es        XYY", 
        "La cadena es       XYYY", 
        "La cadena es      XYYYY", 
        "La cadena es     XYYYYY", 
        "La cadena es    XYYYYYY", 
        "La cadena es   XYYYYYYY", 
        "La cadena es  XYYYYYYYY", 
        "La cadena es XYYYYYYYYY"
       ]
      }
     ], 
     "prompt_number": 22
    }, 
    {
     "cell_type": "code", 
     "collapsed": true, 
     "input": [], 
     "language": "python", 
     "outputs": []
    }
   ]
  }
 ]
}